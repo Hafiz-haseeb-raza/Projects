{
 "cells": [
  {
   "cell_type": "markdown",
   "metadata": {},
   "source": [
    "# Assignment 1 IRS"
   ]
  },
  {
   "cell_type": "markdown",
   "metadata": {},
   "source": [
    "Information retrieval is the process of obtaining information system resources that are relevant to an information need from a collection of those resources. The core purpose of this assignment is to give you the flavor of IRS. You need to follow some steps listed below and in the end, you'll be able to build your own small IRS. So, let's start."
   ]
  },
  {
   "cell_type": "code",
   "execution_count": 306,
   "metadata": {},
   "outputs": [],
   "source": [
    "# required imports\n",
    "import numpy as np\n",
    "import fnmatch\n",
    "import os\n"
   ]
  },
  {
   "cell_type": "markdown",
   "metadata": {},
   "source": [
    "Suppose we have 3 files containing data :"
   ]
  },
  {
   "cell_type": "markdown",
   "metadata": {},
   "source": [
    "### File Contents"
   ]
  },
  {
   "cell_type": "markdown",
   "metadata": {},
   "source": [
    "<img src=\"1.png\"/>\n",
    "<img src=\"2.png\"/>\n",
    "<img src=\"3.png\"/>"
   ]
  },
  {
   "cell_type": "markdown",
   "metadata": {},
   "source": [
    "# Step 1 Create Files with Dummy data"
   ]
  },
  {
   "cell_type": "markdown",
   "metadata": {},
   "source": [
    "#You have to create few files with dummy data of your own choice as shown above.\n"
   ]
  },
  {
   "cell_type": "markdown",
   "metadata": {},
   "source": [
    "\n",
    "# Step 2 Traverse Directories"
   ]
  },
  {
   "cell_type": "markdown",
   "metadata": {},
   "source": [
    "\n",
    " Now, You have to traverse the directories and store all the files into a dict type variable(files_dict). "
   ]
  },
  {
   "cell_type": "code",
   "execution_count": 289,
   "metadata": {},
   "outputs": [],
   "source": [
    "# Here we have intialized some variables, you can add more if required.\n",
    "\n",
    "file_count = 0             # file_count to count number of files\n",
    "files_dict = {}            # files_dic to store count of every file    \n",
    "unique_word_set = set()    # unique_word_set to store all the unique words in a set\n"
   ]
  },
  {
   "cell_type": "code",
   "execution_count": 290,
   "metadata": {},
   "outputs": [
    {
     "name": "stdout",
     "output_type": "stream",
     "text": [
      "['fil2.txt', 'file1.txt', 'file3.txt', 'IRS.ipynb']\n",
      "{'fil2.txt': 0, 'file1.txt': 1, 'file3.txt': 2}\n"
     ]
    }
   ],
   "source": [
    "#Your code starts here   \n",
    "path = os.getcwd()\n",
    "#print(path)\n",
    "dir_list = os.listdir(path)\n",
    "print(dir_list)\n",
    "count=0\n",
    "for keys in dir_list:\n",
    "    if(keys==\"IRS.ipynb\"):\n",
    "        continue\n",
    "    if(keys!=\"IRS.ipynb\"):\n",
    "        files_dict[keys]=count\n",
    "        count=count+1\n",
    "    \n",
    "print(files_dict)\n",
    "file_count=count\n",
    "\n",
    "#Your code ends here       "
   ]
  },
  {
   "cell_type": "markdown",
   "metadata": {},
   "source": [
    "Displaying the count of files."
   ]
  },
  {
   "cell_type": "code",
   "execution_count": 291,
   "metadata": {},
   "outputs": [
    {
     "name": "stdout",
     "output_type": "stream",
     "text": [
      "\n",
      "Total Number  of files\n",
      " 3\n"
     ]
    }
   ],
   "source": [
    "print(\"\\nTotal Number  of files\\n\", file_count)"
   ]
  },
  {
   "cell_type": "markdown",
   "metadata": {},
   "source": [
    "Displaying Dictionary containing all files."
   ]
  },
  {
   "cell_type": "code",
   "execution_count": 292,
   "metadata": {},
   "outputs": [
    {
     "name": "stdout",
     "output_type": "stream",
     "text": [
      "\n",
      "Dictionary containing  files\n",
      " {'fil2.txt': 0, 'file1.txt': 1, 'file3.txt': 2}\n"
     ]
    }
   ],
   "source": [
    "print(\"\\nDictionary containing  files\\n\", files_dict)"
   ]
  },
  {
   "cell_type": "markdown",
   "metadata": {},
   "source": [
    "# Step 3 Extract Unique Vocabulary"
   ]
  },
  {
   "cell_type": "code",
   "execution_count": 293,
   "metadata": {},
   "outputs": [],
   "source": [
    "# write code to print all the unique words in every file and store them in a set"
   ]
  },
  {
   "cell_type": "code",
   "execution_count": 294,
   "metadata": {},
   "outputs": [
    {
     "name": "stdout",
     "output_type": "stream",
     "text": [
      "{'is', 'studying', 'name', 'raza', 'pucit', 'assignment', 'my', 'a', 'student', 'building', 'ai', 'ir', 'haseeb', 'im'}\n"
     ]
    }
   ],
   "source": [
    "#Your code starts here    \n",
    "for key in files_dict:\n",
    "    fhandler = open(key, \"r\")\n",
    "    file_contents=fhandler.read().lower()\n",
    "    fhandler.close()\n",
    "    file_contents=file_contents.split()\n",
    "    for index, word in enumerate(file_contents):\n",
    "        if word.isalpha():\n",
    "            continue \n",
    "        if word[:-1].isalpha():\n",
    "            file_contents[index]=word[:-1]\n",
    "    unique_word_set=unique_word_set|set(file_contents)\n",
    "print(unique_word_set)\n",
    "\n",
    "\n",
    "\n",
    "   \n",
    "    \n",
    "    \n"
   ]
  },
  {
   "cell_type": "markdown",
   "metadata": {},
   "source": [
    "### Expected Output\n"
   ]
  },
  {
   "cell_type": "markdown",
   "metadata": {},
   "source": [
    "<img src=\"4.png\"/>"
   ]
  },
  {
   "cell_type": "markdown",
   "metadata": {},
   "source": [
    "# Step 4 Create Term Document Matrix"
   ]
  },
  {
   "cell_type": "markdown",
   "metadata": {},
   "source": [
    "\n",
    "Create Term-Doc-matrix using Bag of word approach.and display its contents initially and finally."
   ]
  },
  {
   "cell_type": "code",
   "execution_count": 295,
   "metadata": {},
   "outputs": [],
   "source": [
    "# Create Term doc matrix such that colmns will be unique words and all the files will be rows\n",
    "# Write code to count all the unique words appearances in all the files and store it in a dictionary for words "
   ]
  },
  {
   "cell_type": "code",
   "execution_count": 296,
   "metadata": {},
   "outputs": [
    {
     "name": "stdout",
     "output_type": "stream",
     "text": [
      "{'is': 0, 'studying': 1, 'name': 2, 'raza': 3, 'pucit': 4, 'assignment': 5, 'my': 6, 'a': 7, 'student': 8, 'building': 9, 'ai': 10, 'ir': 11, 'haseeb': 12, 'im': 13}\n"
     ]
    }
   ],
   "source": [
    "#Your code starts here\n",
    "#shape = (file_count, len(unique_word_set))\n",
    "#a = np.zeros(shape)\n",
    "#print(a)\n",
    "shape = (file_count, len(unique_word_set))\n",
    "#print(file_count, type(file_count))\n",
    "#print(len(unique_word_set))\n",
    "#print(shape)\n",
    "term_documen_matrix = np.zeros(shape)\n",
    "#print(a)\n",
    "#print(unique_word_set)\n",
    "unique_word_dict=dict()\n",
    "count=0\n",
    "for element in unique_word_set:\n",
    "    unique_word_dict[element]=count\n",
    "    count=count+1\n",
    "print(unique_word_dict)\n",
    "#Your code ends here"
   ]
  },
  {
   "cell_type": "markdown",
   "metadata": {},
   "source": [
    "### Expected Output"
   ]
  },
  {
   "cell_type": "markdown",
   "metadata": {},
   "source": [
    "<img src=\"5.png\"/>"
   ]
  },
  {
   "cell_type": "markdown",
   "metadata": {},
   "source": [
    "# Step 5 Fill Term Document Matrix"
   ]
  },
  {
   "cell_type": "code",
   "execution_count": 297,
   "metadata": {},
   "outputs": [],
   "source": [
    "# Fill the term doc matrix by checking if the unique word exists in a file or not\n",
    "# If it exists then substitute a 1 in term_doc_matrix (eg : TERM_DOC_MATRIX[file][word] = 1 ) \n",
    "# Do the same for all the files present in the directory"
   ]
  },
  {
   "cell_type": "code",
   "execution_count": 298,
   "metadata": {},
   "outputs": [
    {
     "name": "stdout",
     "output_type": "stream",
     "text": [
      "{'is': 0, 'studying': 1, 'name': 2, 'raza': 3, 'pucit': 4, 'assignment': 5, 'my': 6, 'a': 7, 'student': 8, 'building': 9, 'ai': 10, 'ir': 11, 'haseeb': 12, 'im': 13}\n",
      "[[0. 1. 0. 0. 0. 0. 0. 0. 0. 0. 1. 0. 0. 1.]\n",
      " [1. 0. 1. 1. 1. 0. 1. 1. 1. 0. 0. 0. 1. 1.]\n",
      " [1. 0. 0. 0. 0. 1. 1. 1. 0. 1. 0. 1. 0. 0.]]\n"
     ]
    }
   ],
   "source": [
    "#Your code starts here \n",
    "current_file_count=0 \n",
    "print(unique_word_dict)  \n",
    "for key in files_dict:\n",
    "    \n",
    "    fhandler = open(key, \"r\")\n",
    "    file_contents=fhandler.read().lower()\n",
    "    fhandler.close()\n",
    "    file_contents=file_contents.split()\n",
    "    for words in file_contents:\n",
    "        term_documen_matrix[current_file_count][unique_word_dict[words]]=1\n",
    "    current_file_count=current_file_count+1\n",
    "print(term_documen_matrix)\n",
    "\n",
    "#Your code ends here"
   ]
  },
  {
   "cell_type": "markdown",
   "metadata": {},
   "source": [
    "### Expected Output"
   ]
  },
  {
   "cell_type": "markdown",
   "metadata": {},
   "source": [
    "<img src=\"6.png\"/>"
   ]
  },
  {
   "cell_type": "markdown",
   "metadata": {},
   "source": [
    "# Step 6 Ask for a user Query"
   ]
  },
  {
   "cell_type": "code",
   "execution_count": 299,
   "metadata": {},
   "outputs": [],
   "source": [
    "# For user query make a column vector of length of all the unique words present in a set"
   ]
  },
  {
   "cell_type": "code",
   "execution_count": 300,
   "metadata": {},
   "outputs": [
    {
     "name": "stdout",
     "output_type": "stream",
     "text": [
      "[[0.]\n",
      " [0.]\n",
      " [0.]\n",
      " [0.]\n",
      " [0.]\n",
      " [0.]\n",
      " [0.]\n",
      " [0.]\n",
      " [0.]\n",
      " [0.]\n",
      " [0.]\n",
      " [0.]\n",
      " [0.]\n",
      " [0.]]\n"
     ]
    }
   ],
   "source": [
    "#Your code starts here\n",
    "query_matrix=np.zeros((len(unique_word_set),1)) \n",
    "print(query_matrix)\n",
    "\n",
    "#Your code ends here"
   ]
  },
  {
   "cell_type": "markdown",
   "metadata": {},
   "source": [
    "### Expected Output"
   ]
  },
  {
   "cell_type": "markdown",
   "metadata": {},
   "source": [
    "<img src=\"7.png\"/>"
   ]
  },
  {
   "cell_type": "code",
   "execution_count": 301,
   "metadata": {},
   "outputs": [],
   "source": [
    "query = input(\"\\nWrite something for searching  \")\n",
    "\n",
    "\n",
    "# Check every word of query if it exists in the set of unique words or not\n",
    "# If exixts then increment the count of that word in word dictionary\n"
   ]
  },
  {
   "cell_type": "code",
   "execution_count": 302,
   "metadata": {},
   "outputs": [
    {
     "name": "stdout",
     "output_type": "stream",
     "text": [
      "haseeb is a student\n",
      "['haseeb', 'is', 'a', 'student']\n",
      "12\n",
      "incremented once\n",
      "0\n",
      "incremented once\n",
      "7\n",
      "incremented once\n",
      "8\n",
      "incremented once\n",
      "[[1.]\n",
      " [0.]\n",
      " [0.]\n",
      " [0.]\n",
      " [0.]\n",
      " [0.]\n",
      " [0.]\n",
      " [1.]\n",
      " [1.]\n",
      " [0.]\n",
      " [0.]\n",
      " [0.]\n",
      " [1.]\n",
      " [0.]]\n"
     ]
    }
   ],
   "source": [
    "#Your code starts here    \n",
    "print(query)\n",
    "query=query.lower()\n",
    "query=query.split()\n",
    "print(query)\n",
    "for word in query:\n",
    "    if(word in unique_word_set):\n",
    "        c=unique_word_dict[word]\n",
    "        print(c)\n",
    "        query_matrix[c][0]= query_matrix[c][0]+1\n",
    "        print(\"incremented once\")\n",
    "print(query_matrix)\n",
    "#Your code ends here"
   ]
  },
  {
   "cell_type": "markdown",
   "metadata": {},
   "source": [
    "### Expected Output"
   ]
  },
  {
   "cell_type": "markdown",
   "metadata": {},
   "source": [
    "<img src=\"8.png\"/>"
   ]
  },
  {
   "cell_type": "markdown",
   "metadata": {},
   "source": [
    "# Step 7 Display Resultant Vector"
   ]
  },
  {
   "cell_type": "markdown",
   "metadata": {},
   "source": [
    "Display \n",
    "1. Resultant vector.\n",
    "2. Max value in resultant vector.\n",
    "3. Index of max value in resultant vector.\n"
   ]
  },
  {
   "cell_type": "code",
   "execution_count": 303,
   "metadata": {},
   "outputs": [
    {
     "name": "stdout",
     "output_type": "stream",
     "text": [
      "[[0.]\n",
      " [4.]\n",
      " [2.]]\n",
      "4.0\n",
      "1\n"
     ]
    }
   ],
   "source": [
    "#Your code starts here  \n",
    "resultant_matrix=np.dot(term_documen_matrix,query_matrix)\n",
    "print(resultant_matrix)\n",
    "max_value=float(max(resultant_matrix))\n",
    "print(max_value)\n",
    "file_number=-1\n",
    "\n",
    "for rows in resultant_matrix:\n",
    "    file_number=file_number+1\n",
    "    if rows==max_value:\n",
    "        matched_file=rows\n",
    "        break\n",
    "print(file_number)   \n",
    "\n",
    "#Your code ends here"
   ]
  },
  {
   "cell_type": "markdown",
   "metadata": {},
   "source": [
    "### Expected Output"
   ]
  },
  {
   "cell_type": "markdown",
   "metadata": {},
   "source": [
    "<img src=\"9.png\"/>"
   ]
  },
  {
   "cell_type": "markdown",
   "metadata": {},
   "source": [
    "# Step 8 Display the contents of file\n"
   ]
  },
  {
   "cell_type": "code",
   "execution_count": 304,
   "metadata": {},
   "outputs": [],
   "source": [
    "#Write the code to identify the file_name having maximum value in the resultant vector and display its contents."
   ]
  },
  {
   "cell_type": "code",
   "execution_count": 305,
   "metadata": {},
   "outputs": [
    {
     "name": "stdout",
     "output_type": "stream",
     "text": [
      "my name is haseeb raza\n",
      "im a pucit student\n",
      "\n"
     ]
    }
   ],
   "source": [
    "#Your code starts here   \n",
    "count=-1 \n",
    "for key in files_dict:\n",
    "    count=count+1\n",
    "        \n",
    "    fhandler = open(key, \"r\")\n",
    "    if file_number==count:\n",
    "        file_contents=fhandler.read()\n",
    "        print(file_contents)\n",
    "        break\n",
    "    if file_number!=count:\n",
    "        continue\n",
    "    fhandler.close()\n",
    "#Your code ends here"
   ]
  },
  {
   "cell_type": "markdown",
   "metadata": {},
   "source": [
    "Congratulations Now you are able to build your own small IRS."
   ]
  }
 ],
 "metadata": {
  "kernelspec": {
   "display_name": "Python 3",
   "language": "python",
   "name": "python3"
  },
  "language_info": {
   "codemirror_mode": {
    "name": "ipython",
    "version": 3
   },
   "file_extension": ".py",
   "mimetype": "text/x-python",
   "name": "python",
   "nbconvert_exporter": "python",
   "pygments_lexer": "ipython3",
   "version": "3.9.7"
  }
 },
 "nbformat": 4,
 "nbformat_minor": 4
}
